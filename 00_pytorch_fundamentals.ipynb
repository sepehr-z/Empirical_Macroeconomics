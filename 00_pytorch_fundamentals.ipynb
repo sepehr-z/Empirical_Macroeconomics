{
  "nbformat": 4,
  "nbformat_minor": 0,
  "metadata": {
    "colab": {
      "provenance": [],
      "authorship_tag": "ABX9TyNioXhnSLWdDbVnqbiwYpkt",
      "include_colab_link": true
    },
    "kernelspec": {
      "name": "python3",
      "display_name": "Python 3"
    },
    "language_info": {
      "name": "python"
    },
    "gpuClass": "standard"
  },
  "cells": [
    {
      "cell_type": "markdown",
      "metadata": {
        "id": "view-in-github",
        "colab_type": "text"
      },
      "source": [
        "<a href=\"https://colab.research.google.com/github/sepehr-z/Empirical_Macroeconomics/blob/master/00_pytorch_fundamentals.ipynb\" target=\"_parent\"><img src=\"https://colab.research.google.com/assets/colab-badge.svg\" alt=\"Open In Colab\"/></a>"
      ]
    },
    {
      "cell_type": "markdown",
      "source": [
        "## 00.PyTorch Fundamentals:\n",
        "\n",
        "Resources: https://www.learnpytorch.io/00_pytorch_fundamentals/"
      ],
      "metadata": {
        "id": "fqH5K3pj9g5L"
      }
    },
    {
      "cell_type": "code",
      "execution_count": 1,
      "metadata": {
        "colab": {
          "base_uri": "https://localhost:8080/"
        },
        "id": "cpj6Q0I_8AuZ",
        "outputId": "77f5ad25-c91b-4442-d39a-fb09745e0a44"
      },
      "outputs": [
        {
          "output_type": "stream",
          "name": "stdout",
          "text": [
            "for thousend time, Hello World!\n"
          ]
        }
      ],
      "source": [
        "print(\"for thousend time, Hello World!\")"
      ]
    },
    {
      "cell_type": "code",
      "source": [
        "!nvidia-smi"
      ],
      "metadata": {
        "colab": {
          "base_uri": "https://localhost:8080/"
        },
        "id": "vt77TWhL8etz",
        "outputId": "01a11826-97d3-48b7-8431-8abbf8bf3efe"
      },
      "execution_count": 2,
      "outputs": [
        {
          "output_type": "stream",
          "name": "stdout",
          "text": [
            "NVIDIA-SMI has failed because it couldn't communicate with the NVIDIA driver. Make sure that the latest NVIDIA driver is installed and running.\n",
            "\n"
          ]
        }
      ]
    },
    {
      "cell_type": "code",
      "source": [
        "import torch\n",
        "import pandas as pd\n",
        "import numpy as np\n",
        "import matplotlib.pyplot as plt\n",
        "print(torch.__version__)"
      ],
      "metadata": {
        "colab": {
          "base_uri": "https://localhost:8080/"
        },
        "id": "MP9U5qc_9AoW",
        "outputId": "91f3d675-34ec-4a2f-cf41-5b336dcd8e83"
      },
      "execution_count": 3,
      "outputs": [
        {
          "output_type": "stream",
          "name": "stdout",
          "text": [
            "1.13.1+cu116\n"
          ]
        }
      ]
    },
    {
      "cell_type": "markdown",
      "source": [
        "## Introduction to Tensor\n",
        "\n",
        "### Creating tensors"
      ],
      "metadata": {
        "id": "3svrM4zi-gXo"
      }
    },
    {
      "cell_type": "code",
      "source": [
        "# scalar\n",
        "scalar = torch.tensor(7)\n",
        "scalar"
      ],
      "metadata": {
        "colab": {
          "base_uri": "https://localhost:8080/"
        },
        "id": "u-PnNq9j_htU",
        "outputId": "bba1337c-4452-4f23-9f73-0c386ff794b6"
      },
      "execution_count": 4,
      "outputs": [
        {
          "output_type": "execute_result",
          "data": {
            "text/plain": [
              "tensor(7)"
            ]
          },
          "metadata": {},
          "execution_count": 4
        }
      ]
    },
    {
      "cell_type": "code",
      "source": [
        "scalar.ndim"
      ],
      "metadata": {
        "colab": {
          "base_uri": "https://localhost:8080/"
        },
        "id": "3d-27ndB_3__",
        "outputId": "b8edeef4-c994-4f59-f943-0972fd804c18"
      },
      "execution_count": 5,
      "outputs": [
        {
          "output_type": "execute_result",
          "data": {
            "text/plain": [
              "0"
            ]
          },
          "metadata": {},
          "execution_count": 5
        }
      ]
    },
    {
      "cell_type": "code",
      "source": [
        "scalar.item()"
      ],
      "metadata": {
        "colab": {
          "base_uri": "https://localhost:8080/"
        },
        "id": "Ki1Ae9hBBqhX",
        "outputId": "46a51ec7-6ee3-4ca6-b550-aa36c70fdd5f"
      },
      "execution_count": 6,
      "outputs": [
        {
          "output_type": "execute_result",
          "data": {
            "text/plain": [
              "7"
            ]
          },
          "metadata": {},
          "execution_count": 6
        }
      ]
    },
    {
      "cell_type": "code",
      "source": [
        "# Vector\n",
        "vector = torch.tensor([7,7])\n",
        "vector"
      ],
      "metadata": {
        "colab": {
          "base_uri": "https://localhost:8080/"
        },
        "id": "D8F6ykNGCDj6",
        "outputId": "fcbfc397-4ced-43bf-d7ba-9f9890b08ee2"
      },
      "execution_count": 7,
      "outputs": [
        {
          "output_type": "execute_result",
          "data": {
            "text/plain": [
              "tensor([7, 7])"
            ]
          },
          "metadata": {},
          "execution_count": 7
        }
      ]
    },
    {
      "cell_type": "code",
      "source": [
        "vector.ndim"
      ],
      "metadata": {
        "colab": {
          "base_uri": "https://localhost:8080/"
        },
        "id": "eMERkyRRCTDe",
        "outputId": "275b1d21-b135-4b66-d241-231d2c36d8cd"
      },
      "execution_count": 8,
      "outputs": [
        {
          "output_type": "execute_result",
          "data": {
            "text/plain": [
              "1"
            ]
          },
          "metadata": {},
          "execution_count": 8
        }
      ]
    },
    {
      "cell_type": "code",
      "source": [
        "vector.shape"
      ],
      "metadata": {
        "colab": {
          "base_uri": "https://localhost:8080/"
        },
        "id": "iVyZcZzFChDr",
        "outputId": "c6be963d-d533-410e-aeec-a1b66ff89f45"
      },
      "execution_count": 9,
      "outputs": [
        {
          "output_type": "execute_result",
          "data": {
            "text/plain": [
              "torch.Size([2])"
            ]
          },
          "metadata": {},
          "execution_count": 9
        }
      ]
    },
    {
      "cell_type": "code",
      "source": [
        "# MATRIX\n",
        "MATRIX =torch.tensor([[7,8],[9,10]])\n",
        "MATRIX"
      ],
      "metadata": {
        "colab": {
          "base_uri": "https://localhost:8080/"
        },
        "id": "wr7r6cdZCk9Y",
        "outputId": "a7d8d8aa-6e2d-48b3-f354-cf3f0fe6e124"
      },
      "execution_count": 10,
      "outputs": [
        {
          "output_type": "execute_result",
          "data": {
            "text/plain": [
              "tensor([[ 7,  8],\n",
              "        [ 9, 10]])"
            ]
          },
          "metadata": {},
          "execution_count": 10
        }
      ]
    },
    {
      "cell_type": "code",
      "source": [
        "MATRIX.ndim"
      ],
      "metadata": {
        "colab": {
          "base_uri": "https://localhost:8080/"
        },
        "id": "82m73SrVC4M0",
        "outputId": "e7cc39af-bf6c-42fd-901d-47a941584781"
      },
      "execution_count": 11,
      "outputs": [
        {
          "output_type": "execute_result",
          "data": {
            "text/plain": [
              "2"
            ]
          },
          "metadata": {},
          "execution_count": 11
        }
      ]
    },
    {
      "cell_type": "code",
      "source": [
        "MATRIX[0]"
      ],
      "metadata": {
        "colab": {
          "base_uri": "https://localhost:8080/"
        },
        "id": "XSZLkg54C8sL",
        "outputId": "2d9a324b-8638-45f3-a32e-5576d50a3a55"
      },
      "execution_count": 12,
      "outputs": [
        {
          "output_type": "execute_result",
          "data": {
            "text/plain": [
              "tensor([7, 8])"
            ]
          },
          "metadata": {},
          "execution_count": 12
        }
      ]
    },
    {
      "cell_type": "code",
      "source": [
        "MATRIX.shape"
      ],
      "metadata": {
        "colab": {
          "base_uri": "https://localhost:8080/"
        },
        "id": "b3EctDTjDApB",
        "outputId": "5fccb3b5-af7f-4d83-b48d-2087f8035cf5"
      },
      "execution_count": 13,
      "outputs": [
        {
          "output_type": "execute_result",
          "data": {
            "text/plain": [
              "torch.Size([2, 2])"
            ]
          },
          "metadata": {},
          "execution_count": 13
        }
      ]
    },
    {
      "cell_type": "code",
      "source": [
        "# TENSOR\n",
        "TENSOR = torch.tensor([[[1,2,3,3],[4,5,6,3],[9,8,7,3]],\n",
        "                       [[1,2,3,2],[4,5,6,2],[9,8,7,2]]])\n",
        "TENSOR"
      ],
      "metadata": {
        "colab": {
          "base_uri": "https://localhost:8080/"
        },
        "id": "QfsCHftdDEGF",
        "outputId": "06fe8f28-1657-4f0e-9ac4-cfe6dd96151f"
      },
      "execution_count": 14,
      "outputs": [
        {
          "output_type": "execute_result",
          "data": {
            "text/plain": [
              "tensor([[[1, 2, 3, 3],\n",
              "         [4, 5, 6, 3],\n",
              "         [9, 8, 7, 3]],\n",
              "\n",
              "        [[1, 2, 3, 2],\n",
              "         [4, 5, 6, 2],\n",
              "         [9, 8, 7, 2]]])"
            ]
          },
          "metadata": {},
          "execution_count": 14
        }
      ]
    },
    {
      "cell_type": "code",
      "source": [
        "TENSOR.ndim"
      ],
      "metadata": {
        "colab": {
          "base_uri": "https://localhost:8080/"
        },
        "id": "zSMdzts7DgWe",
        "outputId": "4f705911-ab47-4740-875e-1ba258c687b0"
      },
      "execution_count": 15,
      "outputs": [
        {
          "output_type": "execute_result",
          "data": {
            "text/plain": [
              "3"
            ]
          },
          "metadata": {},
          "execution_count": 15
        }
      ]
    },
    {
      "cell_type": "code",
      "source": [
        "TENSOR.shape"
      ],
      "metadata": {
        "colab": {
          "base_uri": "https://localhost:8080/"
        },
        "id": "n90QtwfGDuO1",
        "outputId": "05162543-de0c-4eae-fc7a-00c0d9cfe391"
      },
      "execution_count": 16,
      "outputs": [
        {
          "output_type": "execute_result",
          "data": {
            "text/plain": [
              "torch.Size([2, 3, 4])"
            ]
          },
          "metadata": {},
          "execution_count": 16
        }
      ]
    },
    {
      "cell_type": "code",
      "source": [
        "TENSOR[1][1][1]"
      ],
      "metadata": {
        "colab": {
          "base_uri": "https://localhost:8080/"
        },
        "id": "Kiuresx3DvoC",
        "outputId": "c45c7a80-2aa8-4bc8-f5b5-e8b2b3406850"
      },
      "execution_count": 17,
      "outputs": [
        {
          "output_type": "execute_result",
          "data": {
            "text/plain": [
              "tensor(5)"
            ]
          },
          "metadata": {},
          "execution_count": 17
        }
      ]
    },
    {
      "cell_type": "markdown",
      "source": [
        "### Random Tensors\n",
        "\n",
        "Why random tensors?\n",
        "\n"
      ],
      "metadata": {
        "id": "lR25YwCoNwsn"
      }
    },
    {
      "cell_type": "code",
      "source": [
        "# Creat a random tensor of shape (3,4)\n",
        "random_tensor = torch.rand(3,4)\n",
        "random_tensor"
      ],
      "metadata": {
        "colab": {
          "base_uri": "https://localhost:8080/"
        },
        "id": "NdcSPCKVQqI6",
        "outputId": "ad4b9d48-4953-45f6-a86f-8e5cf1ad2017"
      },
      "execution_count": 18,
      "outputs": [
        {
          "output_type": "execute_result",
          "data": {
            "text/plain": [
              "tensor([[0.0252, 0.5993, 0.1308, 0.6551],\n",
              "        [0.8228, 0.9556, 0.5850, 0.6251],\n",
              "        [0.1721, 0.4530, 0.0234, 0.4618]])"
            ]
          },
          "metadata": {},
          "execution_count": 18
        }
      ]
    },
    {
      "cell_type": "code",
      "source": [
        "random_tensor.ndim"
      ],
      "metadata": {
        "colab": {
          "base_uri": "https://localhost:8080/"
        },
        "id": "aRW9QsxRRo_J",
        "outputId": "223df228-834a-4550-ee5c-862876e6462d"
      },
      "execution_count": 19,
      "outputs": [
        {
          "output_type": "execute_result",
          "data": {
            "text/plain": [
              "2"
            ]
          },
          "metadata": {},
          "execution_count": 19
        }
      ]
    },
    {
      "cell_type": "code",
      "source": [
        "random_tensor1 = torch.rand(10,10,10)\n",
        "random_tensor1"
      ],
      "metadata": {
        "colab": {
          "base_uri": "https://localhost:8080/"
        },
        "id": "QYkphjdgRwfg",
        "outputId": "a732815a-0baf-4eec-949a-74b35ba2927b"
      },
      "execution_count": 20,
      "outputs": [
        {
          "output_type": "execute_result",
          "data": {
            "text/plain": [
              "tensor([[[1.7252e-01, 1.8954e-01, 2.3129e-01, 9.3921e-01, 7.3230e-01,\n",
              "          9.0626e-02, 5.1014e-01, 4.4928e-01, 1.3478e-01, 5.3348e-03],\n",
              "         [1.3611e-01, 9.6558e-01, 7.6210e-01, 7.3785e-02, 2.4593e-01,\n",
              "          8.8105e-01, 5.0573e-01, 5.4639e-01, 3.5514e-01, 2.2645e-01],\n",
              "         [3.7281e-01, 5.1346e-02, 6.3238e-01, 8.2326e-01, 7.3037e-01,\n",
              "          1.1072e-01, 4.1664e-01, 2.4300e-01, 8.6450e-01, 1.3804e-01],\n",
              "         [4.5358e-01, 1.9773e-01, 4.7738e-01, 5.1807e-01, 8.4926e-01,\n",
              "          2.1597e-01, 2.5722e-01, 5.3650e-02, 7.8112e-01, 6.7593e-01],\n",
              "         [8.1753e-01, 9.1244e-01, 3.8707e-01, 6.2902e-01, 7.8751e-01,\n",
              "          4.7541e-01, 7.0508e-02, 1.3046e-01, 1.4947e-01, 8.4311e-01],\n",
              "         [3.6130e-02, 3.1544e-01, 5.1219e-01, 7.9802e-01, 9.2769e-01,\n",
              "          6.5633e-01, 2.5966e-02, 8.5814e-01, 6.7990e-01, 2.7683e-01],\n",
              "         [2.9260e-01, 3.5688e-01, 3.8790e-02, 6.7188e-02, 5.0209e-01,\n",
              "          2.6536e-01, 3.6459e-01, 7.0023e-01, 1.1108e-01, 8.0422e-01],\n",
              "         [3.7774e-03, 3.9693e-01, 8.9892e-01, 2.5392e-01, 1.8387e-01,\n",
              "          3.6242e-01, 3.6334e-02, 1.5798e-01, 1.2991e-01, 2.7794e-01],\n",
              "         [4.9169e-01, 3.0963e-01, 7.6147e-01, 1.7450e-01, 7.2328e-01,\n",
              "          3.3819e-01, 3.0044e-01, 6.3347e-01, 8.3248e-01, 8.3955e-01],\n",
              "         [6.9322e-01, 8.3897e-01, 5.0591e-01, 4.4397e-01, 1.0159e-01,\n",
              "          3.8297e-02, 3.8929e-01, 3.2216e-01, 3.8833e-01, 2.4948e-01]],\n",
              "\n",
              "        [[9.8702e-01, 8.7063e-01, 6.7556e-01, 1.0772e-01, 1.9163e-01,\n",
              "          7.9976e-01, 6.8598e-01, 7.0761e-01, 6.4833e-01, 8.5656e-01],\n",
              "         [3.0188e-01, 3.8541e-01, 2.5083e-01, 3.2231e-02, 2.3764e-01,\n",
              "          8.4190e-01, 8.0306e-01, 6.4026e-01, 5.4007e-01, 6.0539e-01],\n",
              "         [5.4829e-01, 4.1226e-01, 1.7671e-01, 4.1776e-01, 5.3519e-01,\n",
              "          4.7565e-01, 8.8782e-01, 9.5120e-01, 8.8805e-01, 1.0514e-01],\n",
              "         [6.0746e-01, 2.8223e-01, 9.8852e-01, 1.7746e-01, 9.5591e-01,\n",
              "          1.2893e-02, 5.8547e-01, 2.5790e-02, 7.9280e-01, 2.4544e-01],\n",
              "         [3.4230e-01, 4.0101e-01, 8.4430e-02, 6.0244e-01, 2.0910e-01,\n",
              "          2.6005e-01, 1.3029e-01, 3.7887e-01, 3.5378e-01, 2.5648e-01],\n",
              "         [1.6800e-01, 6.4148e-01, 6.7988e-01, 4.4500e-01, 9.6339e-01,\n",
              "          1.8120e-01, 3.0244e-01, 8.6592e-01, 9.4420e-01, 1.1649e-01],\n",
              "         [2.3627e-01, 4.7707e-01, 4.4138e-01, 6.5378e-01, 9.8937e-01,\n",
              "          7.5114e-01, 7.0223e-01, 2.0640e-02, 5.2267e-01, 4.3380e-01],\n",
              "         [3.7937e-01, 7.0166e-01, 9.4484e-01, 9.0784e-01, 6.2816e-02,\n",
              "          3.8329e-01, 7.3049e-01, 2.6358e-02, 9.3160e-01, 3.0833e-01],\n",
              "         [9.6795e-01, 5.0041e-01, 1.6674e-01, 3.6525e-01, 3.7267e-01,\n",
              "          6.3406e-01, 3.4791e-01, 1.8679e-03, 6.6744e-01, 1.0469e-01],\n",
              "         [2.6207e-01, 1.2665e-01, 8.0786e-01, 9.8859e-01, 9.0371e-01,\n",
              "          2.9656e-01, 1.2533e-01, 5.8242e-01, 6.0991e-01, 3.7647e-01]],\n",
              "\n",
              "        [[4.3870e-01, 5.4615e-01, 8.9634e-01, 7.8995e-01, 2.2102e-01,\n",
              "          4.6842e-02, 6.9076e-03, 7.1955e-01, 7.3174e-01, 2.6291e-01],\n",
              "         [4.5431e-01, 8.7684e-01, 1.5104e-01, 2.9674e-01, 6.3242e-01,\n",
              "          2.0267e-01, 1.2765e-01, 3.7612e-01, 8.2561e-01, 4.4244e-01],\n",
              "         [5.2419e-01, 1.6656e-01, 5.8280e-01, 7.7931e-02, 6.2305e-01,\n",
              "          8.8671e-01, 8.1215e-01, 4.8449e-01, 6.9741e-01, 6.9476e-01],\n",
              "         [6.0822e-02, 7.6133e-02, 9.9556e-01, 1.1657e-01, 4.2970e-01,\n",
              "          7.6383e-01, 5.9274e-01, 9.6171e-02, 2.1131e-01, 1.5994e-01],\n",
              "         [1.8573e-01, 4.3391e-01, 4.7238e-01, 4.7654e-02, 9.4291e-01,\n",
              "          5.6056e-01, 7.7800e-01, 8.7965e-01, 6.7483e-01, 7.3899e-01],\n",
              "         [6.9814e-01, 6.3006e-01, 6.7131e-01, 7.6015e-01, 1.6406e-01,\n",
              "          3.8482e-01, 9.9914e-01, 8.1488e-01, 5.7683e-01, 3.6827e-01],\n",
              "         [8.1089e-01, 7.2125e-01, 9.4618e-01, 5.3556e-01, 2.3638e-01,\n",
              "          1.4956e-01, 3.9359e-01, 8.8459e-01, 2.4333e-01, 9.3855e-01],\n",
              "         [7.9317e-01, 5.8603e-01, 5.6692e-01, 1.9365e-02, 6.9635e-01,\n",
              "          8.3969e-01, 7.9531e-03, 2.2277e-02, 6.3479e-01, 8.2713e-01],\n",
              "         [3.9783e-01, 8.9195e-01, 1.2118e-01, 1.8483e-01, 5.3896e-01,\n",
              "          9.4828e-02, 6.2279e-01, 5.5850e-01, 2.2598e-01, 2.8163e-01],\n",
              "         [6.0071e-01, 4.7982e-01, 4.3128e-01, 8.9433e-01, 5.2007e-03,\n",
              "          2.9407e-01, 2.6197e-01, 5.6682e-01, 5.5623e-01, 9.0362e-01]],\n",
              "\n",
              "        [[2.5856e-01, 2.0074e-01, 2.9546e-01, 7.9626e-01, 9.4794e-01,\n",
              "          7.5910e-02, 2.5154e-01, 7.6093e-01, 2.9905e-01, 1.3057e-01],\n",
              "         [7.2371e-01, 7.0776e-01, 8.2653e-01, 4.7823e-01, 1.0200e-02,\n",
              "          6.7211e-01, 5.4389e-01, 3.6484e-01, 6.0213e-01, 8.9147e-01],\n",
              "         [5.0020e-01, 6.2685e-01, 4.4654e-02, 7.8553e-01, 2.2425e-01,\n",
              "          4.0627e-02, 1.1061e-01, 9.4509e-01, 4.2845e-01, 2.3804e-01],\n",
              "         [8.4130e-01, 8.8140e-01, 2.8079e-01, 7.3132e-01, 9.2056e-02,\n",
              "          9.6975e-01, 6.7081e-02, 6.7552e-03, 6.2710e-01, 7.4788e-01],\n",
              "         [1.6178e-01, 1.0077e-01, 3.2154e-01, 2.7215e-01, 7.8627e-01,\n",
              "          8.4451e-01, 8.4668e-01, 7.5333e-01, 7.9883e-02, 3.1798e-01],\n",
              "         [5.2333e-01, 3.6780e-01, 9.8809e-01, 2.4268e-01, 9.9759e-01,\n",
              "          6.8446e-01, 4.0221e-01, 9.0453e-01, 1.8370e-01, 6.4572e-01],\n",
              "         [4.6351e-01, 7.0633e-01, 3.5097e-01, 4.3632e-01, 4.1445e-02,\n",
              "          8.3220e-01, 1.2048e-01, 1.7503e-01, 2.5129e-03, 1.3098e-01],\n",
              "         [2.4210e-01, 5.3349e-01, 5.9143e-01, 3.0935e-01, 1.5331e-01,\n",
              "          8.9130e-01, 1.8795e-02, 2.8113e-01, 4.6822e-01, 2.4987e-01],\n",
              "         [6.6602e-01, 5.9666e-01, 2.2048e-02, 9.0563e-01, 5.3651e-01,\n",
              "          1.2813e-01, 5.3955e-01, 5.5561e-01, 7.3706e-01, 4.2071e-01],\n",
              "         [2.7641e-01, 4.2669e-01, 7.6864e-01, 6.6867e-02, 1.0751e-02,\n",
              "          5.7467e-01, 9.0084e-01, 6.5694e-01, 3.4183e-01, 4.5398e-01]],\n",
              "\n",
              "        [[9.2069e-01, 1.5093e-01, 6.1332e-01, 6.6754e-01, 2.7690e-01,\n",
              "          8.2226e-01, 1.0798e-01, 7.3369e-01, 5.3439e-03, 2.0904e-01],\n",
              "         [2.6108e-01, 1.8424e-01, 5.8404e-01, 7.3331e-01, 8.2135e-01,\n",
              "          1.0924e-02, 2.9452e-01, 2.3868e-01, 2.3043e-01, 2.9684e-01],\n",
              "         [1.1909e-01, 3.1981e-01, 5.5890e-01, 4.3156e-01, 8.5738e-01,\n",
              "          8.4711e-01, 6.1563e-01, 1.4887e-01, 9.8855e-01, 5.8474e-01],\n",
              "         [4.6064e-01, 3.8188e-01, 8.7496e-01, 8.8751e-01, 3.1962e-01,\n",
              "          2.3215e-01, 1.9452e-01, 5.8196e-01, 2.7160e-01, 5.8556e-01],\n",
              "         [1.1278e-01, 8.2960e-01, 4.4549e-01, 1.7626e-01, 3.5555e-01,\n",
              "          8.4108e-01, 4.5892e-01, 7.4513e-01, 5.9515e-01, 5.6303e-01],\n",
              "         [6.4677e-01, 5.4275e-01, 1.1145e-01, 4.9666e-01, 1.4449e-03,\n",
              "          5.2768e-01, 5.9066e-01, 2.4928e-02, 3.9652e-01, 9.4312e-01],\n",
              "         [9.7195e-01, 5.8953e-01, 8.0761e-01, 9.1986e-01, 5.9324e-01,\n",
              "          7.8896e-01, 6.6755e-01, 8.3689e-01, 7.7010e-01, 2.7792e-01],\n",
              "         [3.6322e-01, 5.2020e-01, 6.4238e-02, 1.5052e-01, 2.1536e-01,\n",
              "          6.7511e-01, 6.7715e-01, 4.9126e-01, 9.0397e-01, 7.2792e-01],\n",
              "         [1.9737e-01, 1.1064e-01, 6.9074e-01, 2.7421e-01, 4.1094e-01,\n",
              "          6.1643e-01, 4.7962e-01, 7.5625e-01, 3.7938e-01, 2.1609e-01],\n",
              "         [2.8680e-01, 7.4911e-01, 4.7247e-01, 7.8616e-01, 4.4544e-01,\n",
              "          2.9892e-01, 7.9443e-01, 7.1512e-01, 3.3216e-02, 8.4893e-01]],\n",
              "\n",
              "        [[6.2186e-02, 8.0813e-02, 2.5285e-01, 4.1458e-01, 7.6836e-02,\n",
              "          2.5152e-01, 7.2826e-01, 7.2947e-01, 1.3087e-01, 8.8061e-01],\n",
              "         [1.3508e-01, 8.6542e-01, 2.7717e-01, 6.2351e-01, 3.3551e-01,\n",
              "          8.9768e-01, 6.5065e-01, 5.0955e-01, 4.4572e-01, 8.2039e-02],\n",
              "         [5.5088e-01, 6.8876e-01, 6.6714e-01, 5.5018e-01, 3.8238e-01,\n",
              "          8.9629e-01, 7.9373e-01, 3.9796e-01, 8.8314e-01, 9.5853e-01],\n",
              "         [3.1819e-01, 1.9491e-01, 8.1145e-01, 1.2748e-01, 2.7389e-01,\n",
              "          3.0568e-01, 5.7719e-01, 6.2931e-02, 7.5649e-01, 7.1383e-01],\n",
              "         [6.0723e-01, 5.4128e-01, 7.9416e-01, 4.5328e-01, 2.4340e-01,\n",
              "          3.4118e-01, 4.9823e-01, 5.0387e-02, 8.9045e-02, 2.9381e-01],\n",
              "         [8.1238e-03, 6.2072e-01, 2.4046e-01, 1.7042e-01, 6.0615e-01,\n",
              "          4.5656e-01, 6.6935e-01, 5.3944e-01, 7.7597e-01, 5.9732e-01],\n",
              "         [1.3291e-01, 9.7469e-01, 7.4277e-01, 4.8708e-01, 8.5722e-01,\n",
              "          5.2533e-01, 8.1946e-01, 9.6623e-01, 4.5761e-01, 1.9885e-01],\n",
              "         [1.1466e-01, 4.3417e-01, 3.9702e-01, 5.3615e-01, 5.0325e-01,\n",
              "          6.0687e-01, 1.4507e-01, 7.1222e-01, 7.3893e-01, 4.1265e-01],\n",
              "         [3.7510e-01, 1.8386e-01, 7.5956e-01, 8.0608e-01, 7.3446e-01,\n",
              "          9.7623e-01, 4.3486e-01, 4.3678e-01, 4.6999e-01, 2.1079e-01],\n",
              "         [9.1496e-01, 2.1747e-01, 4.9992e-02, 6.8731e-01, 3.1562e-01,\n",
              "          1.0528e-01, 5.9293e-01, 8.9859e-01, 9.2177e-01, 4.1116e-01]],\n",
              "\n",
              "        [[1.6369e-01, 9.4925e-01, 9.3877e-01, 8.7714e-02, 5.7316e-01,\n",
              "          4.8434e-02, 7.3570e-01, 7.1934e-01, 2.7381e-01, 2.7262e-01],\n",
              "         [7.0422e-01, 7.9132e-01, 5.5887e-01, 7.8179e-01, 8.9554e-01,\n",
              "          4.8485e-01, 6.6420e-01, 2.7849e-01, 8.2998e-01, 4.3472e-01],\n",
              "         [6.9276e-01, 6.3391e-01, 3.8174e-01, 3.9466e-01, 7.7916e-02,\n",
              "          7.4935e-01, 9.5050e-01, 5.2320e-01, 1.4078e-01, 5.6210e-02],\n",
              "         [9.3147e-01, 4.7268e-01, 5.0066e-01, 1.2842e-01, 5.7251e-01,\n",
              "          6.7012e-01, 6.5327e-01, 6.6247e-01, 5.6996e-01, 6.3969e-01],\n",
              "         [2.5318e-01, 1.4471e-01, 4.8613e-01, 3.7744e-01, 5.1359e-01,\n",
              "          5.4247e-01, 3.9495e-01, 9.1630e-01, 9.0509e-01, 9.2616e-02],\n",
              "         [5.0886e-01, 5.2462e-02, 8.8462e-01, 7.3046e-01, 2.0977e-01,\n",
              "          9.8592e-02, 2.7513e-01, 9.9484e-01, 3.8294e-01, 9.8697e-01],\n",
              "         [3.3908e-01, 6.8987e-01, 3.2367e-01, 5.3964e-01, 8.1391e-01,\n",
              "          9.1679e-01, 2.8699e-01, 7.3748e-01, 8.3736e-01, 3.6566e-01],\n",
              "         [9.0954e-01, 6.2078e-01, 5.8698e-01, 6.7099e-01, 2.5925e-01,\n",
              "          1.6718e-01, 5.8532e-01, 4.2270e-01, 1.7439e-01, 3.8705e-01],\n",
              "         [9.8232e-01, 6.9531e-01, 1.0495e-03, 6.1239e-01, 6.8691e-01,\n",
              "          8.7941e-02, 4.9635e-01, 1.7396e-03, 4.1099e-01, 9.0196e-01],\n",
              "         [4.6072e-01, 7.0366e-01, 2.7244e-01, 4.5164e-01, 2.7176e-02,\n",
              "          6.3858e-01, 1.3144e-02, 2.8058e-02, 5.7896e-01, 8.3868e-01]],\n",
              "\n",
              "        [[5.3695e-01, 8.4365e-01, 7.2468e-01, 4.3902e-01, 1.4112e-01,\n",
              "          4.3098e-01, 9.1062e-01, 5.1188e-01, 4.1241e-01, 3.2255e-01],\n",
              "         [2.7083e-01, 4.3439e-01, 9.5782e-03, 8.3168e-01, 1.5519e-01,\n",
              "          9.6838e-01, 3.1395e-01, 8.4637e-01, 4.7908e-01, 7.8669e-02],\n",
              "         [8.8612e-01, 6.3565e-01, 2.6177e-01, 8.3037e-01, 2.5700e-01,\n",
              "          1.7078e-02, 9.2721e-01, 6.9654e-02, 6.2579e-01, 1.1287e-01],\n",
              "         [1.9080e-01, 2.0712e-01, 1.2410e-01, 2.9286e-01, 9.0404e-01,\n",
              "          7.6033e-01, 5.8792e-01, 7.6334e-01, 3.8105e-01, 4.3423e-01],\n",
              "         [7.1070e-01, 7.8362e-01, 9.2165e-01, 9.5092e-01, 1.7519e-02,\n",
              "          3.4351e-01, 2.2120e-01, 4.2895e-01, 3.8686e-01, 1.3067e-01],\n",
              "         [5.9971e-01, 6.7511e-01, 2.9946e-01, 8.3051e-01, 7.7327e-01,\n",
              "          1.9277e-01, 1.9334e-01, 1.9401e-01, 6.8948e-01, 7.8824e-01],\n",
              "         [4.1664e-01, 3.3217e-01, 4.7245e-01, 2.9639e-01, 3.1061e-01,\n",
              "          8.3393e-01, 8.8450e-01, 2.0377e-01, 7.7425e-01, 3.1909e-01],\n",
              "         [9.0752e-02, 8.4908e-01, 6.6646e-01, 7.9942e-01, 6.6415e-01,\n",
              "          4.2403e-01, 5.9308e-01, 9.7800e-01, 8.5201e-01, 8.7100e-04],\n",
              "         [1.3140e-01, 4.4266e-01, 8.9431e-01, 1.4563e-01, 5.1303e-01,\n",
              "          3.5823e-01, 9.0709e-01, 2.4316e-01, 6.1678e-01, 9.8952e-01],\n",
              "         [1.5909e-01, 7.2017e-01, 8.9951e-01, 8.2390e-01, 8.1139e-02,\n",
              "          1.7572e-01, 5.7183e-01, 1.4727e-01, 4.1893e-01, 6.1004e-01]],\n",
              "\n",
              "        [[7.9995e-01, 2.8473e-01, 6.6844e-01, 7.2360e-01, 3.1897e-01,\n",
              "          3.2087e-01, 1.5995e-02, 7.4277e-01, 8.4469e-01, 6.3173e-01],\n",
              "         [5.8758e-01, 4.3442e-01, 5.4993e-01, 9.9528e-01, 6.9113e-01,\n",
              "          6.3931e-01, 1.2532e-01, 5.5097e-01, 7.7137e-01, 3.6142e-01],\n",
              "         [5.9062e-01, 5.1204e-01, 8.3449e-01, 4.2643e-01, 9.4776e-01,\n",
              "          7.3477e-01, 6.4688e-01, 7.1235e-01, 7.2626e-01, 1.9299e-01],\n",
              "         [1.1343e-01, 3.9493e-01, 5.7290e-01, 8.0898e-01, 5.1106e-02,\n",
              "          8.1020e-01, 3.0146e-01, 6.7677e-01, 2.1849e-01, 7.9236e-01],\n",
              "         [6.0485e-01, 7.7847e-01, 7.3030e-01, 5.6201e-01, 6.4584e-01,\n",
              "          9.7361e-01, 6.6961e-01, 8.2871e-01, 2.4059e-01, 2.1388e-01],\n",
              "         [2.0881e-01, 1.8691e-01, 6.4540e-01, 6.9680e-01, 8.0641e-01,\n",
              "          9.2373e-01, 6.9026e-01, 1.0721e-01, 6.8831e-01, 9.5069e-01],\n",
              "         [3.3820e-01, 8.8103e-01, 5.5789e-01, 6.5078e-01, 3.8849e-01,\n",
              "          5.9534e-01, 4.3030e-01, 3.2278e-01, 8.0688e-01, 9.4664e-01],\n",
              "         [3.7551e-01, 4.0508e-01, 5.6785e-01, 7.7926e-01, 2.3604e-01,\n",
              "          1.9155e-01, 2.6106e-02, 9.5092e-01, 6.4181e-01, 8.2460e-01],\n",
              "         [4.6033e-01, 3.1373e-01, 8.4708e-01, 3.5627e-01, 2.2612e-01,\n",
              "          1.8543e-01, 4.0793e-02, 2.4455e-01, 5.2367e-01, 8.9334e-01],\n",
              "         [1.3921e-01, 8.1433e-02, 8.6938e-01, 9.9411e-01, 3.7815e-01,\n",
              "          2.3473e-01, 8.4615e-01, 4.9901e-01, 3.2599e-01, 2.8292e-01]],\n",
              "\n",
              "        [[2.0928e-02, 3.3411e-01, 1.0696e-01, 6.7728e-02, 5.3138e-01,\n",
              "          5.0844e-01, 9.1218e-01, 1.0479e-02, 9.7365e-01, 8.2716e-01],\n",
              "         [2.0524e-01, 8.4461e-01, 3.5657e-01, 8.7246e-01, 7.4530e-01,\n",
              "          8.7663e-01, 9.9698e-01, 3.6667e-01, 1.1133e-01, 2.5232e-01],\n",
              "         [5.5844e-01, 3.1898e-01, 2.9676e-01, 8.0759e-01, 3.9578e-01,\n",
              "          5.7645e-01, 2.4119e-01, 6.2295e-01, 1.7520e-01, 9.1712e-01],\n",
              "         [3.7015e-01, 6.5652e-01, 7.4734e-01, 2.4603e-01, 7.0642e-01,\n",
              "          8.0376e-01, 7.5575e-01, 1.8696e-01, 8.8441e-01, 2.2791e-01],\n",
              "         [9.4404e-01, 1.4567e-01, 8.9115e-01, 5.2324e-01, 6.0737e-01,\n",
              "          2.7910e-01, 2.4912e-01, 1.8377e-01, 4.7444e-01, 7.1957e-01],\n",
              "         [2.7694e-01, 5.0675e-01, 8.3430e-02, 3.0160e-01, 3.8292e-01,\n",
              "          9.7610e-02, 7.9740e-01, 5.8472e-01, 1.1356e-02, 4.1094e-01],\n",
              "         [9.0997e-01, 5.9743e-01, 5.8519e-01, 9.5099e-01, 8.0995e-01,\n",
              "          6.6360e-01, 2.6407e-01, 6.4852e-01, 3.9468e-01, 4.8687e-01],\n",
              "         [7.7621e-01, 5.3125e-01, 2.0040e-01, 2.2489e-02, 4.2832e-01,\n",
              "          7.9095e-01, 2.8666e-01, 2.0441e-01, 1.9049e-01, 8.2249e-01],\n",
              "         [2.1672e-01, 2.3771e-01, 8.9945e-01, 5.9980e-01, 9.3782e-01,\n",
              "          5.9191e-01, 3.2394e-01, 4.0115e-01, 3.7916e-01, 8.6784e-01],\n",
              "         [6.1369e-01, 5.5853e-01, 3.0457e-01, 1.5257e-01, 9.8403e-01,\n",
              "          1.1175e-01, 2.7322e-01, 1.1125e-01, 5.7550e-01, 7.6398e-01]]])"
            ]
          },
          "metadata": {},
          "execution_count": 20
        }
      ]
    },
    {
      "cell_type": "code",
      "source": [
        "random_tensor1.ndim"
      ],
      "metadata": {
        "colab": {
          "base_uri": "https://localhost:8080/"
        },
        "id": "8z2_aW8eR9yX",
        "outputId": "a9c0daa3-2bbe-4db8-c696-038cd3544346"
      },
      "execution_count": 21,
      "outputs": [
        {
          "output_type": "execute_result",
          "data": {
            "text/plain": [
              "3"
            ]
          },
          "metadata": {},
          "execution_count": 21
        }
      ]
    },
    {
      "cell_type": "code",
      "source": [
        "# creat a random tensor with similar shape to an image tensor\n",
        "random_image_size_tensor= torch.rand(size=(224,224,3)) # height, width, color channels (R,G,B)\n",
        "random_image_size_tensor.shape , random_image_size_tensor.ndim"
      ],
      "metadata": {
        "colab": {
          "base_uri": "https://localhost:8080/"
        },
        "id": "I6AM0peHSBc3",
        "outputId": "32c114b1-3761-43e5-cd53-484c2f30dd5b"
      },
      "execution_count": 22,
      "outputs": [
        {
          "output_type": "execute_result",
          "data": {
            "text/plain": [
              "(torch.Size([224, 224, 3]), 3)"
            ]
          },
          "metadata": {},
          "execution_count": 22
        }
      ]
    },
    {
      "cell_type": "markdown",
      "source": [
        "### Zeros and Ones"
      ],
      "metadata": {
        "id": "rp9SY2SJSa5a"
      }
    },
    {
      "cell_type": "code",
      "source": [
        "# Creat a tensor of all zeros\n",
        "zeros= torch.zeros(size=(3,4))\n",
        "zeros*random_tensor"
      ],
      "metadata": {
        "colab": {
          "base_uri": "https://localhost:8080/"
        },
        "id": "ZEoYlL4dTloh",
        "outputId": "a4809da3-6412-442f-c0c0-a94ca6505235"
      },
      "execution_count": 23,
      "outputs": [
        {
          "output_type": "execute_result",
          "data": {
            "text/plain": [
              "tensor([[0., 0., 0., 0.],\n",
              "        [0., 0., 0., 0.],\n",
              "        [0., 0., 0., 0.]])"
            ]
          },
          "metadata": {},
          "execution_count": 23
        }
      ]
    },
    {
      "cell_type": "code",
      "source": [
        "# Creat a tensor of all ones\n",
        "ones= torch.ones(size=(3,4))\n",
        "ones"
      ],
      "metadata": {
        "colab": {
          "base_uri": "https://localhost:8080/"
        },
        "id": "LHigo785TwUd",
        "outputId": "1d86a11d-4d38-458f-d86e-190eb572b53b"
      },
      "execution_count": 24,
      "outputs": [
        {
          "output_type": "execute_result",
          "data": {
            "text/plain": [
              "tensor([[1., 1., 1., 1.],\n",
              "        [1., 1., 1., 1.],\n",
              "        [1., 1., 1., 1.]])"
            ]
          },
          "metadata": {},
          "execution_count": 24
        }
      ]
    },
    {
      "cell_type": "code",
      "source": [
        "ones.dtype"
      ],
      "metadata": {
        "colab": {
          "base_uri": "https://localhost:8080/"
        },
        "id": "g9jgRcHQUJTY",
        "outputId": "293e28f8-bd44-4655-9324-9b81228dde41"
      },
      "execution_count": 25,
      "outputs": [
        {
          "output_type": "execute_result",
          "data": {
            "text/plain": [
              "torch.float32"
            ]
          },
          "metadata": {},
          "execution_count": 25
        }
      ]
    },
    {
      "cell_type": "markdown",
      "source": [
        "### Creating a range of tensors and tensors-like"
      ],
      "metadata": {
        "id": "-7Y8plxGURVF"
      }
    },
    {
      "cell_type": "code",
      "source": [
        "# Use torch.range() and get deprecated message, use torch.arange()\n",
        "one_to_ten = torch.arange(start=1,end=11,step=1)\n",
        "one_to_ten"
      ],
      "metadata": {
        "colab": {
          "base_uri": "https://localhost:8080/"
        },
        "id": "fU2GlZeomjga",
        "outputId": "69a48af2-de86-4c4f-c345-c7b9f45e669d"
      },
      "execution_count": 35,
      "outputs": [
        {
          "output_type": "execute_result",
          "data": {
            "text/plain": [
              "tensor([ 1,  2,  3,  4,  5,  6,  7,  8,  9, 10])"
            ]
          },
          "metadata": {},
          "execution_count": 35
        }
      ]
    },
    {
      "cell_type": "code",
      "source": [
        "# Create a tensor like\n",
        "ten_zeros= torch.zeros_like(input=one_to_ten)\n",
        "ten_zeros"
      ],
      "metadata": {
        "colab": {
          "base_uri": "https://localhost:8080/"
        },
        "id": "jtmT7JLYm-SN",
        "outputId": "dc934b13-bb96-4acc-c171-831d2cbe4b42"
      },
      "execution_count": 36,
      "outputs": [
        {
          "output_type": "execute_result",
          "data": {
            "text/plain": [
              "tensor([0, 0, 0, 0, 0, 0, 0, 0, 0, 0])"
            ]
          },
          "metadata": {},
          "execution_count": 36
        }
      ]
    },
    {
      "cell_type": "markdown",
      "source": [
        "### Tensor datatypes"
      ],
      "metadata": {
        "id": "NwGBc9Yin9l4"
      }
    },
    {
      "cell_type": "code",
      "source": [
        "# Float 32 tensor\n",
        "float_32_tensor= torch.tensor([3.0,6.0,9.0], dtype= None, # tensor datatype e.g. float32 or 16 or64\n",
        "                              device=None, #what device is your tensor on e.g cpu or cuba\n",
        "                              requires_grad=False) #whether or not to track gradients\n",
        "float_32_tensor"
      ],
      "metadata": {
        "colab": {
          "base_uri": "https://localhost:8080/"
        },
        "id": "FckBGGrSokoC",
        "outputId": "c2019b93-2a1e-4e80-c9c1-0d690d0a2930"
      },
      "execution_count": 45,
      "outputs": [
        {
          "output_type": "execute_result",
          "data": {
            "text/plain": [
              "tensor([3., 6., 9.])"
            ]
          },
          "metadata": {},
          "execution_count": 45
        }
      ]
    },
    {
      "cell_type": "code",
      "source": [
        "float_32_tensor.dtype"
      ],
      "metadata": {
        "colab": {
          "base_uri": "https://localhost:8080/"
        },
        "id": "T3PDqK67pBoA",
        "outputId": "a9fa0593-8fbc-4a43-ef37-59788a1c2b0a"
      },
      "execution_count": 46,
      "outputs": [
        {
          "output_type": "execute_result",
          "data": {
            "text/plain": [
              "torch.float32"
            ]
          },
          "metadata": {},
          "execution_count": 46
        }
      ]
    },
    {
      "cell_type": "code",
      "source": [
        "float_16_tensor = float_32_tensor.type(torch.float16)\n",
        "float_16_tensor"
      ],
      "metadata": {
        "colab": {
          "base_uri": "https://localhost:8080/"
        },
        "id": "ZPs7CD2zpE5A",
        "outputId": "9ff94c27-bdef-466a-8c73-9a8c33847cc3"
      },
      "execution_count": 47,
      "outputs": [
        {
          "output_type": "execute_result",
          "data": {
            "text/plain": [
              "tensor([3., 6., 9.], dtype=torch.float16)"
            ]
          },
          "metadata": {},
          "execution_count": 47
        }
      ]
    },
    {
      "cell_type": "markdown",
      "source": [
        "### Getting information from tensors\n",
        "1. Tensors not right datatype - use tensor.dtype\n",
        "2. for shape use tensor.shape\n",
        "3. to get on a right device use tensor.device"
      ],
      "metadata": {
        "id": "FhyDnu1zrpBl"
      }
    },
    {
      "cell_type": "markdown",
      "source": [
        "### Manipulating Tensors (Tensor Operation)\n",
        "\n",
        "Tensor operation includes:\n",
        "* Addition\n",
        "* Substraction\n",
        "* Multiplication (element-wise)\n",
        "* Division\n",
        "* Matrix multiplication"
      ],
      "metadata": {
        "id": "YrLRtYu4wXfq"
      }
    },
    {
      "cell_type": "code",
      "source": [
        "# Create a tensor and add 10 to it\n",
        "tensor = torch.tensor([1,2,3])\n",
        "tensor + 10"
      ],
      "metadata": {
        "colab": {
          "base_uri": "https://localhost:8080/"
        },
        "id": "_6oqOeDAyicD",
        "outputId": "4920b49d-6b04-4793-f328-a6c3b51494f0"
      },
      "execution_count": 52,
      "outputs": [
        {
          "output_type": "execute_result",
          "data": {
            "text/plain": [
              "tensor([11, 12, 13])"
            ]
          },
          "metadata": {},
          "execution_count": 52
        }
      ]
    },
    {
      "cell_type": "code",
      "source": [
        "# Multiply tensor by 10\n",
        "tensor * 10\n"
      ],
      "metadata": {
        "colab": {
          "base_uri": "https://localhost:8080/"
        },
        "id": "5zFVhZljy8FE",
        "outputId": "43930b96-d711-42af-8a36-c27ac651a774"
      },
      "execution_count": 53,
      "outputs": [
        {
          "output_type": "execute_result",
          "data": {
            "text/plain": [
              "tensor([10, 20, 30])"
            ]
          },
          "metadata": {},
          "execution_count": 53
        }
      ]
    },
    {
      "cell_type": "code",
      "source": [
        "# Try out PyTorch in-built functions\n",
        "torch.mul(tensor, 10)"
      ],
      "metadata": {
        "colab": {
          "base_uri": "https://localhost:8080/"
        },
        "id": "V444YRvTzJDw",
        "outputId": "088176da-f55c-43f8-b616-7e30a491067d"
      },
      "execution_count": 54,
      "outputs": [
        {
          "output_type": "execute_result",
          "data": {
            "text/plain": [
              "tensor([10, 20, 30])"
            ]
          },
          "metadata": {},
          "execution_count": 54
        }
      ]
    },
    {
      "cell_type": "code",
      "source": [
        "torch.add(tensor,10)"
      ],
      "metadata": {
        "colab": {
          "base_uri": "https://localhost:8080/"
        },
        "id": "fltPcqP2zgaJ",
        "outputId": "fafde77a-dc0d-460b-e879-5dfc22ada1ab"
      },
      "execution_count": 56,
      "outputs": [
        {
          "output_type": "execute_result",
          "data": {
            "text/plain": [
              "tensor([11, 12, 13])"
            ]
          },
          "metadata": {},
          "execution_count": 56
        }
      ]
    },
    {
      "cell_type": "markdown",
      "source": [],
      "metadata": {
        "id": "RGb43jLnzsWh"
      }
    }
  ]
}